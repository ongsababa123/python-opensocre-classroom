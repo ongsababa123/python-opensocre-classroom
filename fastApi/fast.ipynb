{
 "cells": [
  {
   "cell_type": "code",
   "execution_count": 1,
   "metadata": {},
   "outputs": [],
   "source": [
    "from fastapi import FastAPI\n",
    "from pydantic import BaseModel\n",
    "import uvicorn\n",
    "import nest_asyncio\n"
   ]
  },
  {
   "cell_type": "code",
   "execution_count": null,
   "metadata": {},
   "outputs": [],
   "source": [
    "from unittest import result\n",
    "\n",
    "\n",
    "app = FastAPI()\n",
    "class BookItem(BaseModel):\n",
    "    isbn: str\n",
    "    title: str\n",
    "    author: str\n",
    "    price: float\n",
    "\n",
    "book = []\n",
    "@app.get('/')\n",
    "async def home():\n",
    "    return {\"message\": \"Hello FastAPI\"}\n",
    "\n",
    "@app.get('/books')\n",
    "async def getbook():\n",
    "    return {\"message\": \"Ok\", \"Book\": book}\n",
    "\n",
    "@app.get('/books/{bookid}')\n",
    "async def getbookbyid(bookid: int):\n",
    "    item = book[bookid]\n",
    "    return {\"message\": \"Ok\", \"Book\": item}\n",
    "\n",
    "@app.post('/books')\n",
    "async def addbook(item: BookItem):\n",
    "    book.append(item)\n",
    "    return {\"message\": \"Add ok\", \"Book detail\": item}\n",
    "\n",
    "@app.delete('/books/{bookid}')\n",
    "async def removebookbyid(bookid: int):\n",
    "    if bookid < len(book) and bookid > 0:\n",
    "        book.pop(bookid)\n",
    "        return {\"message\": \"Delete Ok\", \"Book id\": bookid}\n",
    "    else:\n",
    "        return {\"message\": \"Delete Abort\", \"Reason\": \"BookID Not Exist\"}\n",
    "\n",
    "@app.put('/books/{bookid}')\n",
    "async def putbook(bookid: int,item: BookItem):\n",
    "    book[bookid]=item\n",
    "    return {\"message\": \"Update Ok\", \"Book detail\": item}\n",
    "\n",
    "# @app.patch('/books/{bookid}')\n",
    "# async def book_patch(bookid: int,item: BookItem):\n",
    "#     pass\n",
    "\n",
    "@app.get('/test/{id}')\n",
    "async def test_act(id:int, opt1:str=None, opt2:str=None):\n",
    "    opt = []\n",
    "    if opt1:\n",
    "        opt.append({\"opt1\": opt1})\n",
    "    if opt2:\n",
    "        opt.append({\"opt2\": opt2})\n",
    "    return {\"id\": id,\"option\": opt}"
   ]
  },
  {
   "cell_type": "code",
   "execution_count": 3,
   "metadata": {},
   "outputs": [
    {
     "name": "stderr",
     "output_type": "stream",
     "text": [
      "INFO:     Started server process [6820]\n",
      "INFO:     Waiting for application startup.\n",
      "INFO:     Application startup complete.\n",
      "INFO:     Uvicorn running on http://127.0.0.1:8080 (Press CTRL+C to quit)\n"
     ]
    },
    {
     "name": "stdout",
     "output_type": "stream",
     "text": [
      "INFO:     127.0.0.1:58080 - \"GET /docs HTTP/1.1\" 200 OK\n",
      "INFO:     127.0.0.1:58080 - \"GET /openapi.json HTTP/1.1\" 200 OK\n",
      "INFO:     127.0.0.1:58080 - \"GET /books HTTP/1.1\" 200 OK\n",
      "INFO:     127.0.0.1:58080 - \"POST /books HTTP/1.1\" 200 OK\n",
      "INFO:     127.0.0.1:58080 - \"POST /books HTTP/1.1\" 200 OK\n",
      "INFO:     127.0.0.1:58080 - \"GET /books HTTP/1.1\" 200 OK\n",
      "INFO:     127.0.0.1:58088 - \"PUT /books/0 HTTP/1.1\" 500 Internal Server Error\n"
     ]
    },
    {
     "name": "stderr",
     "output_type": "stream",
     "text": [
      "ERROR:    Exception in ASGI application\n",
      "Traceback (most recent call last):\n",
      "  File \"c:\\Users\\ADMIN\\anaconda3\\lib\\site-packages\\uvicorn\\protocols\\http\\h11_impl.py\", line 404, in run_asgi\n",
      "    result = await app(  # type: ignore[func-returns-value]\n",
      "  File \"c:\\Users\\ADMIN\\anaconda3\\lib\\site-packages\\uvicorn\\middleware\\proxy_headers.py\", line 78, in __call__\n",
      "    return await self.app(scope, receive, send)\n",
      "  File \"c:\\Users\\ADMIN\\anaconda3\\lib\\site-packages\\fastapi\\applications.py\", line 270, in __call__\n",
      "    await super().__call__(scope, receive, send)\n",
      "  File \"c:\\Users\\ADMIN\\anaconda3\\lib\\site-packages\\starlette\\applications.py\", line 124, in __call__\n",
      "    await self.middleware_stack(scope, receive, send)\n",
      "  File \"c:\\Users\\ADMIN\\anaconda3\\lib\\site-packages\\starlette\\middleware\\errors.py\", line 184, in __call__\n",
      "    raise exc\n",
      "  File \"c:\\Users\\ADMIN\\anaconda3\\lib\\site-packages\\starlette\\middleware\\errors.py\", line 162, in __call__\n",
      "    await self.app(scope, receive, _send)\n",
      "  File \"c:\\Users\\ADMIN\\anaconda3\\lib\\site-packages\\starlette\\middleware\\exceptions.py\", line 75, in __call__\n",
      "    raise exc\n",
      "  File \"c:\\Users\\ADMIN\\anaconda3\\lib\\site-packages\\starlette\\middleware\\exceptions.py\", line 64, in __call__\n",
      "    await self.app(scope, receive, sender)\n",
      "  File \"c:\\Users\\ADMIN\\anaconda3\\lib\\site-packages\\fastapi\\middleware\\asyncexitstack.py\", line 21, in __call__\n",
      "    raise e\n",
      "  File \"c:\\Users\\ADMIN\\anaconda3\\lib\\site-packages\\fastapi\\middleware\\asyncexitstack.py\", line 18, in __call__\n",
      "    await self.app(scope, receive, send)\n",
      "  File \"c:\\Users\\ADMIN\\anaconda3\\lib\\site-packages\\starlette\\routing.py\", line 680, in __call__\n",
      "    await route.handle(scope, receive, send)\n",
      "  File \"c:\\Users\\ADMIN\\anaconda3\\lib\\site-packages\\starlette\\routing.py\", line 275, in handle\n",
      "    await self.app(scope, receive, send)\n",
      "  File \"c:\\Users\\ADMIN\\anaconda3\\lib\\site-packages\\starlette\\routing.py\", line 65, in app\n",
      "    response = await func(request)\n",
      "  File \"c:\\Users\\ADMIN\\anaconda3\\lib\\site-packages\\fastapi\\routing.py\", line 231, in app\n",
      "    raw_response = await run_endpoint_function(\n",
      "  File \"c:\\Users\\ADMIN\\anaconda3\\lib\\site-packages\\fastapi\\routing.py\", line 160, in run_endpoint_function\n",
      "    return await dependant.call(**values)\n",
      "  File \"C:\\Users\\ADMIN\\AppData\\Local\\Temp\\ipykernel_6820\\1658333114.py\", line 38, in putbook\n",
      "    book[bookid].update(result)\n",
      "AttributeError: 'BookItem' object has no attribute 'update'\n"
     ]
    },
    {
     "name": "stdout",
     "output_type": "stream",
     "text": [
      "INFO:     127.0.0.1:58089 - \"PUT /books/1 HTTP/1.1\" 500 Internal Server Error\n"
     ]
    },
    {
     "name": "stderr",
     "output_type": "stream",
     "text": [
      "ERROR:    Exception in ASGI application\n",
      "Traceback (most recent call last):\n",
      "  File \"c:\\Users\\ADMIN\\anaconda3\\lib\\site-packages\\uvicorn\\protocols\\http\\h11_impl.py\", line 404, in run_asgi\n",
      "    result = await app(  # type: ignore[func-returns-value]\n",
      "  File \"c:\\Users\\ADMIN\\anaconda3\\lib\\site-packages\\uvicorn\\middleware\\proxy_headers.py\", line 78, in __call__\n",
      "    return await self.app(scope, receive, send)\n",
      "  File \"c:\\Users\\ADMIN\\anaconda3\\lib\\site-packages\\fastapi\\applications.py\", line 270, in __call__\n",
      "    await super().__call__(scope, receive, send)\n",
      "  File \"c:\\Users\\ADMIN\\anaconda3\\lib\\site-packages\\starlette\\applications.py\", line 124, in __call__\n",
      "    await self.middleware_stack(scope, receive, send)\n",
      "  File \"c:\\Users\\ADMIN\\anaconda3\\lib\\site-packages\\starlette\\middleware\\errors.py\", line 184, in __call__\n",
      "    raise exc\n",
      "  File \"c:\\Users\\ADMIN\\anaconda3\\lib\\site-packages\\starlette\\middleware\\errors.py\", line 162, in __call__\n",
      "    await self.app(scope, receive, _send)\n",
      "  File \"c:\\Users\\ADMIN\\anaconda3\\lib\\site-packages\\starlette\\middleware\\exceptions.py\", line 75, in __call__\n",
      "    raise exc\n",
      "  File \"c:\\Users\\ADMIN\\anaconda3\\lib\\site-packages\\starlette\\middleware\\exceptions.py\", line 64, in __call__\n",
      "    await self.app(scope, receive, sender)\n",
      "  File \"c:\\Users\\ADMIN\\anaconda3\\lib\\site-packages\\fastapi\\middleware\\asyncexitstack.py\", line 21, in __call__\n",
      "    raise e\n",
      "  File \"c:\\Users\\ADMIN\\anaconda3\\lib\\site-packages\\fastapi\\middleware\\asyncexitstack.py\", line 18, in __call__\n",
      "    await self.app(scope, receive, send)\n",
      "  File \"c:\\Users\\ADMIN\\anaconda3\\lib\\site-packages\\starlette\\routing.py\", line 680, in __call__\n",
      "    await route.handle(scope, receive, send)\n",
      "  File \"c:\\Users\\ADMIN\\anaconda3\\lib\\site-packages\\starlette\\routing.py\", line 275, in handle\n",
      "    await self.app(scope, receive, send)\n",
      "  File \"c:\\Users\\ADMIN\\anaconda3\\lib\\site-packages\\starlette\\routing.py\", line 65, in app\n",
      "    response = await func(request)\n",
      "  File \"c:\\Users\\ADMIN\\anaconda3\\lib\\site-packages\\fastapi\\routing.py\", line 231, in app\n",
      "    raw_response = await run_endpoint_function(\n",
      "  File \"c:\\Users\\ADMIN\\anaconda3\\lib\\site-packages\\fastapi\\routing.py\", line 160, in run_endpoint_function\n",
      "    return await dependant.call(**values)\n",
      "  File \"C:\\Users\\ADMIN\\AppData\\Local\\Temp\\ipykernel_6820\\1658333114.py\", line 38, in putbook\n",
      "    book[bookid].update(result)\n",
      "AttributeError: 'BookItem' object has no attribute 'update'\n"
     ]
    },
    {
     "name": "stdout",
     "output_type": "stream",
     "text": [
      "INFO:     127.0.0.1:58090 - \"GET /books HTTP/1.1\" 200 OK\n",
      "INFO:     127.0.0.1:58093 - \"PUT /books/0 HTTP/1.1\" 500 Internal Server Error\n"
     ]
    },
    {
     "name": "stderr",
     "output_type": "stream",
     "text": [
      "ERROR:    Exception in ASGI application\n",
      "Traceback (most recent call last):\n",
      "  File \"c:\\Users\\ADMIN\\anaconda3\\lib\\site-packages\\uvicorn\\protocols\\http\\h11_impl.py\", line 404, in run_asgi\n",
      "    result = await app(  # type: ignore[func-returns-value]\n",
      "  File \"c:\\Users\\ADMIN\\anaconda3\\lib\\site-packages\\uvicorn\\middleware\\proxy_headers.py\", line 78, in __call__\n",
      "    return await self.app(scope, receive, send)\n",
      "  File \"c:\\Users\\ADMIN\\anaconda3\\lib\\site-packages\\fastapi\\applications.py\", line 270, in __call__\n",
      "    await super().__call__(scope, receive, send)\n",
      "  File \"c:\\Users\\ADMIN\\anaconda3\\lib\\site-packages\\starlette\\applications.py\", line 124, in __call__\n",
      "    await self.middleware_stack(scope, receive, send)\n",
      "  File \"c:\\Users\\ADMIN\\anaconda3\\lib\\site-packages\\starlette\\middleware\\errors.py\", line 184, in __call__\n",
      "    raise exc\n",
      "  File \"c:\\Users\\ADMIN\\anaconda3\\lib\\site-packages\\starlette\\middleware\\errors.py\", line 162, in __call__\n",
      "    await self.app(scope, receive, _send)\n",
      "  File \"c:\\Users\\ADMIN\\anaconda3\\lib\\site-packages\\starlette\\middleware\\exceptions.py\", line 75, in __call__\n",
      "    raise exc\n",
      "  File \"c:\\Users\\ADMIN\\anaconda3\\lib\\site-packages\\starlette\\middleware\\exceptions.py\", line 64, in __call__\n",
      "    await self.app(scope, receive, sender)\n",
      "  File \"c:\\Users\\ADMIN\\anaconda3\\lib\\site-packages\\fastapi\\middleware\\asyncexitstack.py\", line 21, in __call__\n",
      "    raise e\n",
      "  File \"c:\\Users\\ADMIN\\anaconda3\\lib\\site-packages\\fastapi\\middleware\\asyncexitstack.py\", line 18, in __call__\n",
      "    await self.app(scope, receive, send)\n",
      "  File \"c:\\Users\\ADMIN\\anaconda3\\lib\\site-packages\\starlette\\routing.py\", line 680, in __call__\n",
      "    await route.handle(scope, receive, send)\n",
      "  File \"c:\\Users\\ADMIN\\anaconda3\\lib\\site-packages\\starlette\\routing.py\", line 275, in handle\n",
      "    await self.app(scope, receive, send)\n",
      "  File \"c:\\Users\\ADMIN\\anaconda3\\lib\\site-packages\\starlette\\routing.py\", line 65, in app\n",
      "    response = await func(request)\n",
      "  File \"c:\\Users\\ADMIN\\anaconda3\\lib\\site-packages\\fastapi\\routing.py\", line 231, in app\n",
      "    raw_response = await run_endpoint_function(\n",
      "  File \"c:\\Users\\ADMIN\\anaconda3\\lib\\site-packages\\fastapi\\routing.py\", line 160, in run_endpoint_function\n",
      "    return await dependant.call(**values)\n",
      "  File \"C:\\Users\\ADMIN\\AppData\\Local\\Temp\\ipykernel_6820\\1658333114.py\", line 38, in putbook\n",
      "    book[bookid].update(result)\n",
      "AttributeError: 'BookItem' object has no attribute 'update'\n",
      "WARNING:  Invalid HTTP request received.\n"
     ]
    },
    {
     "name": "stdout",
     "output_type": "stream",
     "text": [
      "INFO:     127.0.0.1:58419 - \"GET /books HTTP/1.1\" 200 OK\n",
      "INFO:     127.0.0.1:58554 - \"GET /books HTTP/1.1\" 200 OK\n",
      "INFO:     127.0.0.1:58556 - \"POST /books HTTP/1.1\" 200 OK\n"
     ]
    }
   ],
   "source": [
    "nest_asyncio.apply()\n",
    "uvicorn.run(app, port=8080)"
   ]
  }
 ],
 "metadata": {
  "kernelspec": {
   "display_name": "Python 3.9.12 ('base')",
   "language": "python",
   "name": "python3"
  },
  "language_info": {
   "codemirror_mode": {
    "name": "ipython",
    "version": 3
   },
   "file_extension": ".py",
   "mimetype": "text/x-python",
   "name": "python",
   "nbconvert_exporter": "python",
   "pygments_lexer": "ipython3",
   "version": "3.9.12"
  },
  "orig_nbformat": 4,
  "vscode": {
   "interpreter": {
    "hash": "2f155fbeb9494e5ce992090b8427abe3542dae7719d8ea0d05cb0b78608edd18"
   }
  }
 },
 "nbformat": 4,
 "nbformat_minor": 2
}
