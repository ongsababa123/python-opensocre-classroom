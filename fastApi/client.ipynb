{
 "cells": [
  {
   "cell_type": "code",
   "execution_count": 8,
   "metadata": {},
   "outputs": [
    {
     "name": "stdout",
     "output_type": "stream",
     "text": [
      "{'message': 'Ok', 'Book': []}\n",
      "{'message': 'Add ok', 'Book detail': {'isbn': '9999', 'title': 'Python', 'author': 'BANK', 'price': 99.0}}\n",
      "{'message': 'Add ok', 'Book detail': {'isbn': '1111', 'title': 'OpenSource', 'author': 'BANK', 'price': 10.0}}\n",
      "<bound method Response.json of <Response [405]>>\n",
      "{'message': 'Ok', 'Book': [{'isbn': '9999', 'title': 'Python', 'author': 'BANK', 'price': 99.0}, {'isbn': '1111', 'title': 'OpenSource', 'author': 'BANK', 'price': 10.0}]}\n"
     ]
    }
   ],
   "source": [
    "from urllib import response\n",
    "import requests \n",
    "\n",
    "def get_book():\n",
    "    api_url = \"http://localhost:8080/books\"\n",
    "    response = requests.get(api_url)\n",
    "    print(response.json())\n",
    "\n",
    "def add_book(isbn=\"9999\", title=\"Python\", author=\"BANK\", price=99):\n",
    "    api_url = \"http://localhost:8080/books\"\n",
    "    item = {\n",
    "        \"isbn\"      : isbn,\n",
    "        \"title\"     : title,\n",
    "        \"author\"    : author,\n",
    "        \"price\"     : price \n",
    "    }\n",
    "    response = requests.post(api_url,json=item)\n",
    "    print(response.json())\n",
    "def remove_book(id):\n",
    "    api_url = \"http://localhost:8080/books\"+str(id)\n",
    "    response = requests.delete(api_url)\n",
    "    print(response.json)\n",
    "\n",
    "def update_book(id, isbn, title, author, price):\n",
    "    api_url = \"http://localhost:8080/books\"+str(id)\n",
    "    item = {\n",
    "        \"isbn\"      : isbn,\n",
    "        \"title\"     : title,\n",
    "        \"author\"    : author,\n",
    "        \"price\"     : price \n",
    "    }\n",
    "    response = requests.put(api_url, json=item)\n",
    "    print(response.json)\n",
    "\n",
    "get_book()\n",
    "add_book()\n",
    "add_book(title=\"OpenSource\",price=10,isbn=\"1111\")\n",
    "get_book\n",
    "remove_book(0)\n",
    "get_book()\n"
   ]
  }
 ],
 "metadata": {
  "kernelspec": {
   "display_name": "Python 3.9.12 ('base')",
   "language": "python",
   "name": "python3"
  },
  "language_info": {
   "codemirror_mode": {
    "name": "ipython",
    "version": 3
   },
   "file_extension": ".py",
   "mimetype": "text/x-python",
   "name": "python",
   "nbconvert_exporter": "python",
   "pygments_lexer": "ipython3",
   "version": "3.9.12"
  },
  "orig_nbformat": 4,
  "vscode": {
   "interpreter": {
    "hash": "2f155fbeb9494e5ce992090b8427abe3542dae7719d8ea0d05cb0b78608edd18"
   }
  }
 },
 "nbformat": 4,
 "nbformat_minor": 2
}
