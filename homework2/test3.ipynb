{
 "cells": [
  {
   "cell_type": "code",
   "execution_count": 6,
   "metadata": {},
   "outputs": [
    {
     "name": "stdout",
     "output_type": "stream",
     "text": [
      "10\n",
      "22222\n"
     ]
    }
   ],
   "source": [
    "a = 2\n",
    "a*=5\n",
    "print(a)\n",
    "a = \"2\"\n",
    "a*=5\n",
    "print(a)"
   ]
  },
  {
   "cell_type": "code",
   "execution_count": 7,
   "metadata": {},
   "outputs": [
    {
     "name": "stdout",
     "output_type": "stream",
     "text": [
      "[] 0\n"
     ]
    }
   ],
   "source": [
    "a = []\n",
    "print(a, len(a))"
   ]
  },
  {
   "cell_type": "code",
   "execution_count": 8,
   "metadata": {},
   "outputs": [],
   "source": [
    "a.append(7)\n",
    "a.append(2)"
   ]
  },
  {
   "cell_type": "code",
   "execution_count": 9,
   "metadata": {},
   "outputs": [],
   "source": [
    "a.clear()"
   ]
  },
  {
   "cell_type": "code",
   "execution_count": 14,
   "metadata": {},
   "outputs": [
    {
     "name": "stdout",
     "output_type": "stream",
     "text": [
      "[] []\n"
     ]
    },
    {
     "ename": "IndexError",
     "evalue": "list assignment index out of range",
     "output_type": "error",
     "traceback": [
      "\u001b[1;31m---------------------------------------------------------------------------\u001b[0m",
      "\u001b[1;31mIndexError\u001b[0m                                Traceback (most recent call last)",
      "\u001b[1;32me:\\Work and Lern\\Lern\\Year 2 semester 1\\opensocre\\homework2\\test3.ipynb Cell 5\u001b[0m in \u001b[0;36m<cell line: 3>\u001b[1;34m()\u001b[0m\n\u001b[0;32m      <a href='vscode-notebook-cell:/e%3A/Work%20and%20Lern/Lern/Year%202%20semester%201/opensocre/homework2/test3.ipynb#W4sZmlsZQ%3D%3D?line=0'>1</a>\u001b[0m b \u001b[39m=\u001b[39m a \n\u001b[0;32m      <a href='vscode-notebook-cell:/e%3A/Work%20and%20Lern/Lern/Year%202%20semester%201/opensocre/homework2/test3.ipynb#W4sZmlsZQ%3D%3D?line=1'>2</a>\u001b[0m \u001b[39mprint\u001b[39m(a,b)\n\u001b[1;32m----> <a href='vscode-notebook-cell:/e%3A/Work%20and%20Lern/Lern/Year%202%20semester%201/opensocre/homework2/test3.ipynb#W4sZmlsZQ%3D%3D?line=2'>3</a>\u001b[0m b[\u001b[39m1\u001b[39;49m] \u001b[39m=\u001b[39m \u001b[39m5\u001b[39m\n\u001b[0;32m      <a href='vscode-notebook-cell:/e%3A/Work%20and%20Lern/Lern/Year%202%20semester%201/opensocre/homework2/test3.ipynb#W4sZmlsZQ%3D%3D?line=3'>4</a>\u001b[0m \u001b[39mprint\u001b[39m(a,b)\n",
      "\u001b[1;31mIndexError\u001b[0m: list assignment index out of range"
     ]
    }
   ],
   "source": [
    "b = a \n",
    "print(a,b)\n",
    "b[0] = 5\n",
    "print(a,b)"
   ]
  },
  {
   "cell_type": "code",
   "execution_count": null,
   "metadata": {},
   "outputs": [
    {
     "name": "stdout",
     "output_type": "stream",
     "text": [
      "[5] [5]\n",
      "[5] [20]\n"
     ]
    }
   ],
   "source": [
    "c = a.copy()\n",
    "print(a,c)\n",
    "c[0] = 20 \n",
    "print(a,c) "
   ]
  },
  {
   "cell_type": "code",
   "execution_count": null,
   "metadata": {},
   "outputs": [
    {
     "name": "stdout",
     "output_type": "stream",
     "text": [
      "1\n"
     ]
    }
   ],
   "source": [
    "print(a.count(5))"
   ]
  },
  {
   "cell_type": "code",
   "execution_count": null,
   "metadata": {},
   "outputs": [
    {
     "name": "stdout",
     "output_type": "stream",
     "text": [
      "None\n"
     ]
    }
   ],
   "source": [
    "d = a.extend(c)\n",
    "print(d)"
   ]
  },
  {
   "cell_type": "code",
   "execution_count": null,
   "metadata": {},
   "outputs": [
    {
     "name": "stdout",
     "output_type": "stream",
     "text": [
      "nop 123\n",
      "[['nop', 'test'], [123, 999]]\n"
     ]
    }
   ],
   "source": [
    "data = [\n",
    "    [\"nop\",\"test\"],\n",
    "    [123,999]\n",
    "    ]\n",
    "\n",
    "print(data[0][0], data[1][0])\n",
    "\n",
    "n = [\"nop\",\"test\"]\n",
    "p = [123,999]\n",
    "data = [n,p]\n",
    "print(data)"
   ]
  },
  {
   "cell_type": "code",
   "execution_count": null,
   "metadata": {},
   "outputs": [
    {
     "name": "stdout",
     "output_type": "stream",
     "text": [
      "[20]\n",
      "[]\n"
     ]
    }
   ],
   "source": [
    "print(c)\n",
    "c.pop()\n",
    "print(c)"
   ]
  },
  {
   "cell_type": "code",
   "execution_count": null,
   "metadata": {},
   "outputs": [
    {
     "name": "stdout",
     "output_type": "stream",
     "text": [
      "['D', 'D']\n",
      "['D', 'D', 'D']\n"
     ]
    }
   ],
   "source": [
    "c = []\n",
    "print(c)\n",
    "c.insert(1, \"D\")\n",
    "print(c)"
   ]
  },
  {
   "cell_type": "code",
   "execution_count": 13,
   "metadata": {},
   "outputs": [
    {
     "name": "stdout",
     "output_type": "stream",
     "text": [
      "2 2 2\n"
     ]
    }
   ],
   "source": [
    "data = [\n",
    "    [\"nop\",\"test\"],\n",
    "    [123,999]\n",
    "    ]\n",
    "print(len(data), len(data[0]), len(data[1]))"
   ]
  },
  {
   "cell_type": "code",
   "execution_count": null,
   "metadata": {},
   "outputs": [],
   "source": [
    "l2 = [1]\n",
    "if not l2: print(\"empty\")"
   ]
  },
  {
   "cell_type": "code",
   "execution_count": 16,
   "metadata": {},
   "outputs": [
    {
     "name": "stdout",
     "output_type": "stream",
     "text": [
      "(1, 2, 3, 4, 5, 6, 7, 8, 9, 10)\n"
     ]
    },
    {
     "ename": "AttributeError",
     "evalue": "'tuple' object has no attribute 'reverse'",
     "output_type": "error",
     "traceback": [
      "\u001b[1;31m---------------------------------------------------------------------------\u001b[0m",
      "\u001b[1;31mAttributeError\u001b[0m                            Traceback (most recent call last)",
      "\u001b[1;32me:\\Work and Lern\\Lern\\Year 2 semester 1\\opensocre\\homework2\\test3.ipynb Cell 14\u001b[0m in \u001b[0;36m<cell line: 3>\u001b[1;34m()\u001b[0m\n\u001b[0;32m      <a href='vscode-notebook-cell:/e%3A/Work%20and%20Lern/Lern/Year%202%20semester%201/opensocre/homework2/test3.ipynb#X16sZmlsZQ%3D%3D?line=0'>1</a>\u001b[0m b \u001b[39m=\u001b[39m \u001b[39m1\u001b[39m,\u001b[39m2\u001b[39m,\u001b[39m3\u001b[39m,\u001b[39m4\u001b[39m,\u001b[39m5\u001b[39m,\u001b[39m6\u001b[39m,\u001b[39m7\u001b[39m,\u001b[39m8\u001b[39m,\u001b[39m9\u001b[39m,\u001b[39m10\u001b[39m\n\u001b[0;32m      <a href='vscode-notebook-cell:/e%3A/Work%20and%20Lern/Lern/Year%202%20semester%201/opensocre/homework2/test3.ipynb#X16sZmlsZQ%3D%3D?line=1'>2</a>\u001b[0m \u001b[39mprint\u001b[39m(b)\n\u001b[1;32m----> <a href='vscode-notebook-cell:/e%3A/Work%20and%20Lern/Lern/Year%202%20semester%201/opensocre/homework2/test3.ipynb#X16sZmlsZQ%3D%3D?line=2'>3</a>\u001b[0m b\u001b[39m.\u001b[39;49mreverse()\n\u001b[0;32m      <a href='vscode-notebook-cell:/e%3A/Work%20and%20Lern/Lern/Year%202%20semester%201/opensocre/homework2/test3.ipynb#X16sZmlsZQ%3D%3D?line=3'>4</a>\u001b[0m \u001b[39mprint\u001b[39m(b)\n\u001b[0;32m      <a href='vscode-notebook-cell:/e%3A/Work%20and%20Lern/Lern/Year%202%20semester%201/opensocre/homework2/test3.ipynb#X16sZmlsZQ%3D%3D?line=4'>5</a>\u001b[0m z \u001b[39m=\u001b[39m b[::\u001b[39m-\u001b[39m\u001b[39m1\u001b[39m]\n",
      "\u001b[1;31mAttributeError\u001b[0m: 'tuple' object has no attribute 'reverse'"
     ]
    }
   ],
   "source": [
    "b = 1,2,3,4,5,6,7,8,9,10\n",
    "print(b)\n",
    "b.reverse()\n",
    "print(b)\n",
    "z = b[::-1]\n",
    "print(z)"
   ]
  },
  {
   "cell_type": "code",
   "execution_count": 15,
   "metadata": {},
   "outputs": [
    {
     "name": "stdout",
     "output_type": "stream",
     "text": [
      "[['nop', 'test'], [123, 999]]\n",
      "[['nop', 'test'], [123, 999]]\n"
     ]
    }
   ],
   "source": [
    "data = [\n",
    "    [\"nop\",\"test\"],\n",
    "    [123,999]\n",
    "    ]\n",
    "print(data)\n",
    "data[0].sort()\n",
    "print(data)"
   ]
  },
  {
   "cell_type": "code",
   "execution_count": null,
   "metadata": {},
   "outputs": [
    {
     "name": "stdout",
     "output_type": "stream",
     "text": [
      "['A']\n"
     ]
    }
   ],
   "source": [
    "a.append(\"A\")\n",
    "print(a)"
   ]
  },
  {
   "cell_type": "code",
   "execution_count": null,
   "metadata": {},
   "outputs": [],
   "source": []
  }
 ],
 "metadata": {
  "kernelspec": {
   "display_name": "Python 3.9.13 64-bit (windows store)",
   "language": "python",
   "name": "python3"
  },
  "language_info": {
   "codemirror_mode": {
    "name": "ipython",
    "version": 3
   },
   "file_extension": ".py",
   "mimetype": "text/x-python",
   "name": "python",
   "nbconvert_exporter": "python",
   "pygments_lexer": "ipython3",
   "version": "3.9.13"
  },
  "orig_nbformat": 4,
  "vscode": {
   "interpreter": {
    "hash": "af0161fba165280db90ad1af0ca1e2288d93cc0a3f7b55b5257c06d6a40d00a5"
   }
  }
 },
 "nbformat": 4,
 "nbformat_minor": 2
}
