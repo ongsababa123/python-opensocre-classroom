{
 "cells": [
  {
   "cell_type": "code",
   "execution_count": 1,
   "metadata": {},
   "outputs": [
    {
     "name": "stdout",
     "output_type": "stream",
     "text": [
      "kuypong a\n",
      "naheepong p\n"
     ]
    }
   ],
   "source": [
    "import tkinter as tk\n",
    "import tkinter.simpledialog as sm\n",
    "import tkinter.messagebox as mbox\n",
    "\n",
    "class MyDialog(sm.Dialog):\n",
    "    def body(self, master):\n",
    "        tk.Label(master, text=\"First:\").grid(row=0)\n",
    "        tk.Label(master, text=\"Second:\").grid(row=1)\n",
    "        self.e1 = tk.Entry(master)\n",
    "        self.e2 = tk.Entry(master)\n",
    "        self.e1.grid(row=0, column=1)\n",
    "        self.e2.grid(row=1, column=1)\n",
    "        return None\n",
    "    \n",
    "    def apply(self):\n",
    "        first = self.e1.get()\n",
    "        second = self.e2.get()\n",
    "        print(first, second)\n",
    "        mbox.showinfo(title=\"Label\", message=\"First:\"+first+\"\\n\"+\"Second\"+second)\n",
    "        if not l1.curselection():\n",
    "            l1.insert(tk.END, first)\n",
    "        \n",
    "        a = 0\n",
    "        x = l1.curselection()\n",
    "        if len(x) > 1 :\n",
    "            for i in x :\n",
    "                a = a+1\n",
    "                if a == len(x) : \n",
    "                    l1.insert(str(i+1), first)\n",
    "                    print(\"hellooooooooooooo\")\n",
    "        else :    \n",
    "            for item in l1.curselection():\n",
    "                l1.insert(str(item+1), first)\n",
    "        \n",
    "        \n",
    "        \n",
    "def add():\n",
    "    MyDialog(root)\n",
    "\n",
    "def show():\n",
    "    if not l1.curselection(): \n",
    "        bb = \"Please select\"\n",
    "        mbox.showinfo(title=\"Label\", message=bb)\n",
    "    for i in l1.curselection():\n",
    "        print(\"Display Show\",\"\\n\",l1.get(i))\n",
    "        bb = l1.get(i)\n",
    "        mbox.showinfo(title=\"Label\", message=bb)\n",
    "        \n",
    "def delete():\n",
    "    if not l1.curselection():\n",
    "        l1.delete(tk.END,tk.END)\n",
    "    for i in l1.curselection():\n",
    "         l1.delete(i)\n",
    "         \n",
    "def Exit():\n",
    "    root.destroy() \n",
    "                     \n",
    "root = tk.Tk()\n",
    "l1 = tk.Listbox(root, selectmode=tk.MULTIPLE)\n",
    "l1.pack()\n",
    "f1 = tk.Frame(root)\n",
    "f1.pack()\n",
    "tk.Button(root, text=\"Add\", command=add).pack(side=\"left\")\n",
    "tk.Button(root, text=\"show\", command=show).pack(side=\"left\")\n",
    "tk.Button(root, text=\"Delete\", command=delete).pack(side=\"left\")\n",
    "tk.Button(root, text=\"Exit\", command=Exit).pack(side=\"left\")\n",
    "\n",
    "# d = MyDialog(root)\n",
    "# root.destroy()\n",
    "root.mainloop()"
   ]
  }
 ],
 "metadata": {
  "kernelspec": {
   "display_name": "Python 3.9.13 64-bit (windows store)",
   "language": "python",
   "name": "python3"
  },
  "language_info": {
   "codemirror_mode": {
    "name": "ipython",
    "version": 3
   },
   "file_extension": ".py",
   "mimetype": "text/x-python",
   "name": "python",
   "nbconvert_exporter": "python",
   "pygments_lexer": "ipython3",
   "version": "3.9.13"
  },
  "orig_nbformat": 4,
  "vscode": {
   "interpreter": {
    "hash": "af0161fba165280db90ad1af0ca1e2288d93cc0a3f7b55b5257c06d6a40d00a5"
   }
  }
 },
 "nbformat": 4,
 "nbformat_minor": 2
}
